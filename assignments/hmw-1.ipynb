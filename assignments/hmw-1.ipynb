{
 "cells": [
  {
   "attachments": {},
   "cell_type": "markdown",
   "metadata": {},
   "source": [
    "### **Assignment 1: (Simple Linear Regression)**"
   ]
  },
  {
   "attachments": {},
   "cell_type": "markdown",
   "metadata": {},
   "source": [
    "Use the dataset below to build a Simple Linear Regression.\n",
    "\n",
    "The dataset contains the Years of Experience and Salaries of a number of employees.\n"
   ]
  },
  {
   "cell_type": "code",
   "execution_count": null,
   "metadata": {},
   "outputs": [],
   "source": [
    "import pandas as pd\n",
    "import numpy as np\n",
    "import seaborn as sns\n",
    "import matplotlib.pyplot as plt"
   ]
  },
  {
   "cell_type": "code",
   "execution_count": null,
   "metadata": {},
   "outputs": [],
   "source": [
    "salary_data = pd.read_csv(\"https://raw.githubusercontent.com/krishnaik06/simple-Linear-Regression/master/Salary_Data.csv\", sep=\",\")"
   ]
  },
  {
   "attachments": {},
   "cell_type": "markdown",
   "metadata": {},
   "source": [
    "Perform data pre-processing, visualize the dataset to understand your data"
   ]
  },
  {
   "attachments": {},
   "cell_type": "markdown",
   "metadata": {},
   "source": [
    "Calculate the following: \n",
    "\n",
    "- Metrics (**MAE MSE, RMSE, R-squared**)\n",
    "- Model Accuracy (%)\n",
    "- Represent the linear regression model (formula)?\n",
    "- What will the **salary of someone with 27 years of experience** be?\n",
    "- Predict the **Average Salary** of people with work of experience of 1,2,3,4 & 5 years?"
   ]
  }
 ],
 "metadata": {
  "language_info": {
   "name": "python"
  },
  "orig_nbformat": 4
 },
 "nbformat": 4,
 "nbformat_minor": 2
}

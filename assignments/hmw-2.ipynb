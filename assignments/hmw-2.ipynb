{
 "cells": [
  {
   "attachments": {},
   "cell_type": "markdown",
   "metadata": {},
   "source": [
    "### **Assignment 2: (Multivariate Linear Regression)**\n",
    "Deadline: 20.04.2023\n",
    "\n",
    "**Tasks**\n",
    "1. Register on Kaggle\n",
    "2. Send me your kaggle user name\n",
    "3. Take part in the competition and submit your results: https://www.kaggle.com/competitions/house-prices-advanced-regression-techniques\n",
    "4. The goal of this assignment is to predict house prices\n"
   ]
  },
  {
   "attachments": {},
   "cell_type": "markdown",
   "metadata": {},
   "source": [
    "With 79 explanatory variables describing (almost) every aspect of residential homes in Ames, Iowa, this competition challenges you to predict the final price of each home.\n",
    "\n",
    "The Ames Housing dataset was compiled by Dean De Cock for use in data science education. It's an incredible alternative for data scientists looking for a modernized and expanded version of the often cited Boston Housing dataset. "
   ]
  },
  {
   "cell_type": "code",
   "execution_count": null,
   "metadata": {},
   "outputs": [],
   "source": []
  }
 ],
 "metadata": {
  "language_info": {
   "name": "python"
  },
  "orig_nbformat": 4
 },
 "nbformat": 4,
 "nbformat_minor": 2
}
